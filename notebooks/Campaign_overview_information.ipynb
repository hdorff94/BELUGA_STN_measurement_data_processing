{
 "cells": [
  {
   "cell_type": "markdown",
   "id": "3a6ad9e2",
   "metadata": {},
   "source": [
    "## BELUGA research flight segmentation"
   ]
  },
  {
   "cell_type": "markdown",
   "id": "0faea16f",
   "metadata": {},
   "source": [
    "This notebook can be used to check and perform the flight segmentation for the specific research flights (RFs) \n",
    "conducted by BELUGA at Station Nord (STN)."
   ]
  },
  {
   "cell_type": "code",
   "execution_count": 1,
   "id": "e825a7d7",
   "metadata": {},
   "outputs": [],
   "source": [
    "import glob\n",
    "import os\n",
    "import sys\n",
    "import warnings\n",
    "\n",
    "import numpy as np\n",
    "import pandas as pd\n",
    "import xarray as xr\n",
    "\n",
    "import matplotlib\n",
    "import matplotlib.pyplot as plt\n",
    "import matplotlib.dates as mdates\n",
    "import matplotlib.ticker as mticker"
   ]
  },
  {
   "cell_type": "code",
   "execution_count": 2,
   "id": "7a130478",
   "metadata": {},
   "outputs": [],
   "source": [
    "src_path=os.getcwd()+\"/src/\"\n",
    "import warnings\n",
    "warnings.filterwarnings(\"ignore\")\n",
    "sys.path.insert(1,os.getcwd()+\"/plotting/\")\n",
    "sys.path.insert(2,src_path)\n",
    "sys.path.insert(3,src_path+\"/processing/\")\n",
    "sys.path.insert(4,src_path+\"/analysing/\")\n",
    "\n",
    "class HiddenPrints:\n",
    "    def __enter__(self):\n",
    "        self._original_stdout = sys.stdout\n",
    "        sys.stdout = open(os.devnull, 'w')\n",
    "\n",
    "    def __exit__(self, exc_type, exc_val, exc_tb):\n",
    "        sys.stdout.close()\n",
    "        sys.stdout = self._original_stdout\n",
    "import Performance\n",
    "performance=Performance.performance()"
   ]
  },
  {
   "cell_type": "code",
   "execution_count": 3,
   "id": "039d419b",
   "metadata": {},
   "outputs": [],
   "source": [
    "import Measurement_Platforms\n",
    "import beluga_plotting"
   ]
  },
  {
   "cell_type": "code",
   "execution_count": 4,
   "id": "1875c38c",
   "metadata": {},
   "outputs": [],
   "source": [
    "# Definitions\n",
    "matplotlib.rcParams.update({\"font.size\":18})\n",
    "STN_coords={\"lat\": 81.60,\n",
    "            \"lon\": -16.65}\n",
    "main_path=os.getcwd()+\"/BELUGA_data/\"\n",
    "\n",
    "flight=\"RF02\" #individual research flight to be analysed"
   ]
  },
  {
   "cell_type": "markdown",
   "id": "740e9d5d",
   "metadata": {},
   "source": [
    "### Switches for things to show"
   ]
  },
  {
   "cell_type": "code",
   "execution_count": 5,
   "id": "2f682868",
   "metadata": {},
   "outputs": [],
   "source": [
    "open_met_data             = False\n",
    "rerun_flight_segmentation = False\n",
    "plot_flight_segmentation  = False"
   ]
  },
  {
   "cell_type": "code",
   "execution_count": 6,
   "id": "603a2fc3",
   "metadata": {},
   "outputs": [
    {
     "name": "stdout",
     "output_type": "stream",
     "text": [
      "Main path is: C:\\Users\\u300737\\Desktop\\Desktop_alter_Rechner\\BELUGA_Leipzig_AC3\\Code\\GIT\\STN_analysis/BELUGA_data/\n"
     ]
    },
    {
     "data": {
      "text/html": [
       "<div>\n",
       "<style scoped>\n",
       "    .dataframe tbody tr th:only-of-type {\n",
       "        vertical-align: middle;\n",
       "    }\n",
       "\n",
       "    .dataframe tbody tr th {\n",
       "        vertical-align: top;\n",
       "    }\n",
       "\n",
       "    .dataframe thead th {\n",
       "        text-align: right;\n",
       "    }\n",
       "</style>\n",
       "<table border=\"1\" class=\"dataframe\">\n",
       "  <thead>\n",
       "    <tr style=\"text-align: right;\">\n",
       "      <th></th>\n",
       "      <th>Date</th>\n",
       "      <th>Start Time</th>\n",
       "      <th>End Time</th>\n",
       "      <th>type</th>\n",
       "      <th>No_of_profiles</th>\n",
       "      <th>Max_height</th>\n",
       "    </tr>\n",
       "    <tr>\n",
       "      <th>Flight No</th>\n",
       "      <th></th>\n",
       "      <th></th>\n",
       "      <th></th>\n",
       "      <th></th>\n",
       "      <th></th>\n",
       "      <th></th>\n",
       "    </tr>\n",
       "  </thead>\n",
       "  <tbody>\n",
       "    <tr>\n",
       "      <th>RF01</th>\n",
       "      <td>24/03/2024</td>\n",
       "      <td>2024-03-24 12:32:56</td>\n",
       "      <td>2024-03-24 14:38:13</td>\n",
       "      <td>uncategorized</td>\n",
       "      <td>8.0</td>\n",
       "      <td>378.0</td>\n",
       "    </tr>\n",
       "    <tr>\n",
       "      <th>RF02</th>\n",
       "      <td>24/03/2024</td>\n",
       "      <td>2024-03-24 15:33:41</td>\n",
       "      <td>2024-03-24 16:41:32</td>\n",
       "      <td>uncategorized</td>\n",
       "      <td>4.0</td>\n",
       "      <td>451.0</td>\n",
       "    </tr>\n",
       "    <tr>\n",
       "      <th>RF03</th>\n",
       "      <td>25/03/2024</td>\n",
       "      <td>2024-03-25 10:09:08</td>\n",
       "      <td>2024-03-25 13:56:33</td>\n",
       "      <td>uncategorized</td>\n",
       "      <td>16.0</td>\n",
       "      <td>487.0</td>\n",
       "    </tr>\n",
       "    <tr>\n",
       "      <th>RF04</th>\n",
       "      <td>25/03/2024</td>\n",
       "      <td>2024-03-25 15:05:26</td>\n",
       "      <td>2024-03-25 16:25:43</td>\n",
       "      <td>uncategorized</td>\n",
       "      <td>6.0</td>\n",
       "      <td>406.0</td>\n",
       "    </tr>\n",
       "    <tr>\n",
       "      <th>RF05</th>\n",
       "      <td>26/03/2024</td>\n",
       "      <td>2024-03-26 16:07:39</td>\n",
       "      <td>2024-03-26 18:25:35</td>\n",
       "      <td>Polar night to day</td>\n",
       "      <td>10.0</td>\n",
       "      <td>482.0</td>\n",
       "    </tr>\n",
       "    <tr>\n",
       "      <th>RF06</th>\n",
       "      <td>26/03/2024</td>\n",
       "      <td>2024-03-26 19:09:02</td>\n",
       "      <td>2024-03-26 21:57:37</td>\n",
       "      <td>Polar night to day</td>\n",
       "      <td>10.0</td>\n",
       "      <td>466.0</td>\n",
       "    </tr>\n",
       "    <tr>\n",
       "      <th>RF07</th>\n",
       "      <td>27/03/2024</td>\n",
       "      <td>2024-03-27 16:11:40</td>\n",
       "      <td>2024-03-27 17:42:30</td>\n",
       "      <td>clear to cloudy</td>\n",
       "      <td>6.0</td>\n",
       "      <td>480.0</td>\n",
       "    </tr>\n",
       "    <tr>\n",
       "      <th>RF08</th>\n",
       "      <td>28/03/2024</td>\n",
       "      <td>2024-03-28 09:56:12</td>\n",
       "      <td>2024-03-28 12:48:06</td>\n",
       "      <td>clear to cloudy</td>\n",
       "      <td>12.0</td>\n",
       "      <td>494.0</td>\n",
       "    </tr>\n",
       "    <tr>\n",
       "      <th>RF09</th>\n",
       "      <td>28/03/2024</td>\n",
       "      <td>2024-03-28 00:00:00</td>\n",
       "      <td>2024-03-28 00:00:00</td>\n",
       "      <td>uncategorized</td>\n",
       "      <td>NaN</td>\n",
       "      <td>NaN</td>\n",
       "    </tr>\n",
       "    <tr>\n",
       "      <th>RF10</th>\n",
       "      <td>29/03/2024</td>\n",
       "      <td>2024-03-29 14:41:38</td>\n",
       "      <td>2024-03-29 16:05:56</td>\n",
       "      <td>clear to cloudy</td>\n",
       "      <td>4.0</td>\n",
       "      <td>474.0</td>\n",
       "    </tr>\n",
       "    <tr>\n",
       "      <th>RF11</th>\n",
       "      <td>30/03/2024</td>\n",
       "      <td>2024-03-30 10:45:28</td>\n",
       "      <td>2024-03-30 14:09:54</td>\n",
       "      <td>uncategorized</td>\n",
       "      <td>10.0</td>\n",
       "      <td>489.0</td>\n",
       "    </tr>\n",
       "    <tr>\n",
       "      <th>RF12</th>\n",
       "      <td>01/04/2024</td>\n",
       "      <td>2024-04-01 09:35:37</td>\n",
       "      <td>2024-04-01 11:49:08</td>\n",
       "      <td>LLJ</td>\n",
       "      <td>10.0</td>\n",
       "      <td>688.0</td>\n",
       "    </tr>\n",
       "    <tr>\n",
       "      <th>RF13</th>\n",
       "      <td>01/04/2024</td>\n",
       "      <td>2024-04-01 12:13:25</td>\n",
       "      <td>2024-04-01 14:48:22</td>\n",
       "      <td>LLJ</td>\n",
       "      <td>12.0</td>\n",
       "      <td>549.0</td>\n",
       "    </tr>\n",
       "    <tr>\n",
       "      <th>RF14</th>\n",
       "      <td>01/04/2024</td>\n",
       "      <td>2024-04-01 15:17:39</td>\n",
       "      <td>2024-04-01 16:59:37</td>\n",
       "      <td>uncategorized</td>\n",
       "      <td>8.0</td>\n",
       "      <td>502.0</td>\n",
       "    </tr>\n",
       "    <tr>\n",
       "      <th>RF15</th>\n",
       "      <td>02/04/2024</td>\n",
       "      <td>2024-04-02 09:31:52</td>\n",
       "      <td>2024-04-02 12:35:30</td>\n",
       "      <td>clear to cloudy</td>\n",
       "      <td>12.0</td>\n",
       "      <td>475.0</td>\n",
       "    </tr>\n",
       "    <tr>\n",
       "      <th>RF16</th>\n",
       "      <td>02/04/2024</td>\n",
       "      <td>2024-04-02 13:08:47</td>\n",
       "      <td>2024-04-02 14:27:02</td>\n",
       "      <td>clear to cloudy</td>\n",
       "      <td>6.0</td>\n",
       "      <td>543.0</td>\n",
       "    </tr>\n",
       "    <tr>\n",
       "      <th>RF17</th>\n",
       "      <td>03/04/2024</td>\n",
       "      <td>2024-04-03 13:31:30</td>\n",
       "      <td>2024-04-03 16:17:28</td>\n",
       "      <td>uncategorized</td>\n",
       "      <td>14.0</td>\n",
       "      <td>616.0</td>\n",
       "    </tr>\n",
       "    <tr>\n",
       "      <th>RF18</th>\n",
       "      <td>04/04/2024</td>\n",
       "      <td>2024-04-04 10:47:22</td>\n",
       "      <td>2024-04-04 13:47:51</td>\n",
       "      <td>uncategorized</td>\n",
       "      <td>18.0</td>\n",
       "      <td>507.0</td>\n",
       "    </tr>\n",
       "    <tr>\n",
       "      <th>RF19</th>\n",
       "      <td>04/04/2024</td>\n",
       "      <td>2024-04-04 14:25:02</td>\n",
       "      <td>2024-04-04 17:07:03</td>\n",
       "      <td>clear to cloudy</td>\n",
       "      <td>10.0</td>\n",
       "      <td>549.0</td>\n",
       "    </tr>\n",
       "    <tr>\n",
       "      <th>RF20</th>\n",
       "      <td>05/04/2024</td>\n",
       "      <td>2024-04-05 09:36:28</td>\n",
       "      <td>2024-04-05 14:59:31</td>\n",
       "      <td>uncategorized</td>\n",
       "      <td>20.0</td>\n",
       "      <td>634.0</td>\n",
       "    </tr>\n",
       "    <tr>\n",
       "      <th>RF21</th>\n",
       "      <td>06/04/2024</td>\n",
       "      <td>2024-04-06 14:44:10</td>\n",
       "      <td>2024-04-06 17:12:06</td>\n",
       "      <td>uncategorized</td>\n",
       "      <td>10.0</td>\n",
       "      <td>578.0</td>\n",
       "    </tr>\n",
       "    <tr>\n",
       "      <th>RF22</th>\n",
       "      <td>07/04/2024</td>\n",
       "      <td>2024-04-07 12:40:48</td>\n",
       "      <td>2024-04-07 15:52:54</td>\n",
       "      <td>uncategorized</td>\n",
       "      <td>14.0</td>\n",
       "      <td>735.0</td>\n",
       "    </tr>\n",
       "    <tr>\n",
       "      <th>RF23</th>\n",
       "      <td>08/04/2024</td>\n",
       "      <td>2024-04-08 09:33:23</td>\n",
       "      <td>2024-04-08 12:48:46</td>\n",
       "      <td>clear to cloudy</td>\n",
       "      <td>12.0</td>\n",
       "      <td>734.0</td>\n",
       "    </tr>\n",
       "    <tr>\n",
       "      <th>RF24</th>\n",
       "      <td>08/04/2024</td>\n",
       "      <td>2024-04-08 13:56:24</td>\n",
       "      <td>2024-04-08 16:25:37</td>\n",
       "      <td>uncategorized</td>\n",
       "      <td>8.0</td>\n",
       "      <td>804.0</td>\n",
       "    </tr>\n",
       "    <tr>\n",
       "      <th>RF25</th>\n",
       "      <td>09/04/2024</td>\n",
       "      <td>2024-04-09 09:12:10</td>\n",
       "      <td>2024-04-09 13:36:16</td>\n",
       "      <td>uncategorized</td>\n",
       "      <td>28.0</td>\n",
       "      <td>855.0</td>\n",
       "    </tr>\n",
       "    <tr>\n",
       "      <th>RF26</th>\n",
       "      <td>10/04/2024</td>\n",
       "      <td>2024-04-10 09:56:37</td>\n",
       "      <td>2024-04-10 15:41:44</td>\n",
       "      <td>LLJ</td>\n",
       "      <td>28.0</td>\n",
       "      <td>829.0</td>\n",
       "    </tr>\n",
       "    <tr>\n",
       "      <th>RF27</th>\n",
       "      <td>11/04/2024</td>\n",
       "      <td>2024-04-11 09:38:26</td>\n",
       "      <td>2024-04-11 14:08:32</td>\n",
       "      <td>clear to cloudy</td>\n",
       "      <td>24.0</td>\n",
       "      <td>897.0</td>\n",
       "    </tr>\n",
       "    <tr>\n",
       "      <th>RF28</th>\n",
       "      <td>12/04/2024</td>\n",
       "      <td>2024-04-12 13:58:35</td>\n",
       "      <td>2024-04-12 16:29:16</td>\n",
       "      <td>uncategorized</td>\n",
       "      <td>16.0</td>\n",
       "      <td>819.0</td>\n",
       "    </tr>\n",
       "  </tbody>\n",
       "</table>\n",
       "</div>"
      ],
      "text/plain": [
       "                 Date          Start Time            End Time  \\\n",
       "Flight No                                                       \n",
       "RF01       24/03/2024 2024-03-24 12:32:56 2024-03-24 14:38:13   \n",
       "RF02       24/03/2024 2024-03-24 15:33:41 2024-03-24 16:41:32   \n",
       "RF03       25/03/2024 2024-03-25 10:09:08 2024-03-25 13:56:33   \n",
       "RF04       25/03/2024 2024-03-25 15:05:26 2024-03-25 16:25:43   \n",
       "RF05       26/03/2024 2024-03-26 16:07:39 2024-03-26 18:25:35   \n",
       "RF06       26/03/2024 2024-03-26 19:09:02 2024-03-26 21:57:37   \n",
       "RF07       27/03/2024 2024-03-27 16:11:40 2024-03-27 17:42:30   \n",
       "RF08       28/03/2024 2024-03-28 09:56:12 2024-03-28 12:48:06   \n",
       "RF09       28/03/2024 2024-03-28 00:00:00 2024-03-28 00:00:00   \n",
       "RF10       29/03/2024 2024-03-29 14:41:38 2024-03-29 16:05:56   \n",
       "RF11       30/03/2024 2024-03-30 10:45:28 2024-03-30 14:09:54   \n",
       "RF12       01/04/2024 2024-04-01 09:35:37 2024-04-01 11:49:08   \n",
       "RF13       01/04/2024 2024-04-01 12:13:25 2024-04-01 14:48:22   \n",
       "RF14       01/04/2024 2024-04-01 15:17:39 2024-04-01 16:59:37   \n",
       "RF15       02/04/2024 2024-04-02 09:31:52 2024-04-02 12:35:30   \n",
       "RF16       02/04/2024 2024-04-02 13:08:47 2024-04-02 14:27:02   \n",
       "RF17       03/04/2024 2024-04-03 13:31:30 2024-04-03 16:17:28   \n",
       "RF18       04/04/2024 2024-04-04 10:47:22 2024-04-04 13:47:51   \n",
       "RF19       04/04/2024 2024-04-04 14:25:02 2024-04-04 17:07:03   \n",
       "RF20       05/04/2024 2024-04-05 09:36:28 2024-04-05 14:59:31   \n",
       "RF21       06/04/2024 2024-04-06 14:44:10 2024-04-06 17:12:06   \n",
       "RF22       07/04/2024 2024-04-07 12:40:48 2024-04-07 15:52:54   \n",
       "RF23       08/04/2024 2024-04-08 09:33:23 2024-04-08 12:48:46   \n",
       "RF24       08/04/2024 2024-04-08 13:56:24 2024-04-08 16:25:37   \n",
       "RF25       09/04/2024 2024-04-09 09:12:10 2024-04-09 13:36:16   \n",
       "RF26       10/04/2024 2024-04-10 09:56:37 2024-04-10 15:41:44   \n",
       "RF27       11/04/2024 2024-04-11 09:38:26 2024-04-11 14:08:32   \n",
       "RF28       12/04/2024 2024-04-12 13:58:35 2024-04-12 16:29:16   \n",
       "\n",
       "                         type  No_of_profiles  Max_height  \n",
       "Flight No                                                  \n",
       "RF01            uncategorized             8.0       378.0  \n",
       "RF02            uncategorized             4.0       451.0  \n",
       "RF03            uncategorized            16.0       487.0  \n",
       "RF04            uncategorized             6.0       406.0  \n",
       "RF05       Polar night to day            10.0       482.0  \n",
       "RF06       Polar night to day            10.0       466.0  \n",
       "RF07          clear to cloudy             6.0       480.0  \n",
       "RF08          clear to cloudy            12.0       494.0  \n",
       "RF09            uncategorized             NaN         NaN  \n",
       "RF10          clear to cloudy             4.0       474.0  \n",
       "RF11            uncategorized            10.0       489.0  \n",
       "RF12                      LLJ            10.0       688.0  \n",
       "RF13                      LLJ            12.0       549.0  \n",
       "RF14            uncategorized             8.0       502.0  \n",
       "RF15          clear to cloudy            12.0       475.0  \n",
       "RF16          clear to cloudy             6.0       543.0  \n",
       "RF17            uncategorized            14.0       616.0  \n",
       "RF18            uncategorized            18.0       507.0  \n",
       "RF19          clear to cloudy            10.0       549.0  \n",
       "RF20            uncategorized            20.0       634.0  \n",
       "RF21            uncategorized            10.0       578.0  \n",
       "RF22            uncategorized            14.0       735.0  \n",
       "RF23          clear to cloudy            12.0       734.0  \n",
       "RF24            uncategorized             8.0       804.0  \n",
       "RF25            uncategorized            28.0       855.0  \n",
       "RF26                      LLJ            28.0       829.0  \n",
       "RF27          clear to cloudy            24.0       897.0  \n",
       "RF28            uncategorized            16.0       819.0  "
      ]
     },
     "execution_count": 6,
     "metadata": {},
     "output_type": "execute_result"
    }
   ],
   "source": [
    "# Allocate classes and get overarching infos of all flights\n",
    "Platforms_STN_cls=Measurement_Platforms.Measurement_Platforms_STN(\n",
    "    main_path=main_path)\n",
    "BELUGA_cls=Measurement_Platforms.BELUGA(Platforms_STN_cls)\n",
    "BELUGA_cls.get_flight_information()\n",
    "flight_infos=BELUGA_cls.flight_infos\n",
    "flight_infos"
   ]
  },
  {
   "cell_type": "markdown",
   "id": "8ad65823",
   "metadata": {},
   "source": [
    "#### Load all meteorogical campaign data (if switched on)"
   ]
  },
  {
   "cell_type": "code",
   "execution_count": 7,
   "id": "c2316e5b",
   "metadata": {},
   "outputs": [],
   "source": [
    "if open_met_data:\n",
    "    cpgn_df=BELUGA_cls.open_all_met_data()\n",
    "    cpgn_df=BELUGA_cls.calc_wspeed(cpgn_df)\n",
    "    cpgn_df[cpgn_df[\"TEMP\"]>0]=np.nan"
   ]
  },
  {
   "cell_type": "markdown",
   "id": "ea8174ad",
   "metadata": {},
   "source": [
    "### Perform flight segmenation for flight defined"
   ]
  },
  {
   "cell_type": "code",
   "execution_count": 8,
   "id": "1dc69ccf",
   "metadata": {},
   "outputs": [],
   "source": [
    "if rerun_flight_segmentation:\n",
    "    # Categorisation\n",
    "    print(\"Flight segmentation for\", flight)\n",
    "    rf_df=BELUGA_cls.open_met_data(rf=flight)\n",
    "    # Drop interrupted indexes (NAT)\n",
    "    rf_df=rf_df.loc[rf_df.index.dropna()]\n",
    "    rf_df.name=flight\n",
    "    # Get profile maxima from research flight\n",
    "    rf_df,profile_peaks = beluga_plotting.segment_flight_sections(rf_df,rate_threshold=0.1)"
   ]
  },
  {
   "cell_type": "code",
   "execution_count": 9,
   "id": "d7e80907",
   "metadata": {},
   "outputs": [],
   "source": [
    "if plot_flight_segmentation:\n",
    "    %matplotlib notebook\n",
    "    # Plot flight segmentation\n",
    "    beluga_plotting.plot_flight_segmentation(rf_df, profile_peaks)"
   ]
  },
  {
   "cell_type": "markdown",
   "id": "e4ab8fad",
   "metadata": {},
   "source": [
    "### Overall campaign statistics"
   ]
  },
  {
   "cell_type": "code",
   "execution_count": 10,
   "id": "9557a9b8",
   "metadata": {},
   "outputs": [],
   "source": [
    "# Perform flight segmentation for all flights\n",
    "#with HiddenPrints():\n",
    "#    flight_infos,merged_rfs_df=beluga_plotting.advanced_flight_information(cpgn_df,BELUGA_cls,\n",
    "#                             add_profile_infos_in_file=True, plot_segments=False)"
   ]
  },
  {
   "cell_type": "code",
   "execution_count": 11,
   "id": "d73204aa",
   "metadata": {
    "scrolled": true
   },
   "outputs": [
    {
     "data": {
      "text/plain": [
       "Flight No\n",
       "RF01   0 days 02:05:17\n",
       "RF02   0 days 01:07:51\n",
       "RF03   0 days 03:47:25\n",
       "RF04   0 days 01:20:17\n",
       "RF05   0 days 02:17:56\n",
       "RF06   0 days 02:48:35\n",
       "RF07   0 days 01:30:50\n",
       "RF08   0 days 02:51:54\n",
       "RF09   0 days 00:00:00\n",
       "RF10   0 days 01:24:18\n",
       "RF11   0 days 03:24:26\n",
       "RF12   0 days 02:13:31\n",
       "RF13   0 days 02:34:57\n",
       "RF14   0 days 01:41:58\n",
       "RF15   0 days 03:03:38\n",
       "RF16   0 days 01:18:15\n",
       "RF17   0 days 02:45:58\n",
       "RF18   0 days 03:00:29\n",
       "RF19   0 days 02:42:01\n",
       "RF20   0 days 05:23:03\n",
       "RF21   0 days 02:27:56\n",
       "RF22   0 days 03:12:06\n",
       "RF23   0 days 03:15:23\n",
       "RF24   0 days 02:29:13\n",
       "RF25   0 days 04:24:06\n",
       "RF26   0 days 05:45:07\n",
       "RF27   0 days 04:30:06\n",
       "RF28   0 days 02:30:41\n",
       "dtype: timedelta64[ns]"
      ]
     },
     "execution_count": 11,
     "metadata": {},
     "output_type": "execute_result"
    }
   ],
   "source": [
    "# Get flight entire hours\n",
    "#print(\"Total flight hours:\", cpgn_df.shape[0]/3600)\n",
    "flight_durations=flight_infos[\"End Time\"] - flight_infos[\"Start Time\"]\n",
    "flight_durations"
   ]
  },
  {
   "cell_type": "markdown",
   "id": "01bad0d7",
   "metadata": {},
   "source": [
    "### Total flight duration of campaign"
   ]
  },
  {
   "cell_type": "code",
   "execution_count": 15,
   "id": "479a7086",
   "metadata": {},
   "outputs": [
    {
     "name": "stdout",
     "output_type": "stream",
     "text": [
      "3 days 03:57:17\n"
     ]
    }
   ],
   "source": [
    "print(pd.Timedelta(flight_durations.sum(),unit=\"hours\"))"
   ]
  },
  {
   "cell_type": "code",
   "execution_count": 16,
   "id": "654eff43",
   "metadata": {},
   "outputs": [
    {
     "name": "stdout",
     "output_type": "stream",
     "text": [
      "Total number of profiles 336.0\n"
     ]
    }
   ],
   "source": [
    "print(\"Total number of profiles\", flight_infos[\"No_of_profiles\"].sum())"
   ]
  },
  {
   "cell_type": "markdown",
   "id": "d028be75",
   "metadata": {},
   "source": [
    "##### Plot histogram of relative durations of specific flight segments"
   ]
  },
  {
   "cell_type": "code",
   "execution_count": 12,
   "id": "38ae0936",
   "metadata": {},
   "outputs": [
    {
     "name": "stdout",
     "output_type": "stream",
     "text": [
      "Figure saved as: C:\\Users\\u300737\\Desktop\\Desktop_alter_Rechner\\BELUGA_Leipzig_AC3\\Code\\GIT\\STN_analysis/plots/hist_segments.pdf\n"
     ]
    },
    {
     "data": {
      "image/png": "[encoded data removed]",
      "text/plain": [
       "<Figure size 700x400 with 1 Axes>"
      ]
     },
     "metadata": {},
     "output_type": "display_data"
    }
   ],
   "source": [
    "percentages=beluga_plotting.plot_flight_segments_histogram(merged_rfs_df)"
   ]
  },
  {
   "cell_type": "code",
   "execution_count": null,
   "id": "e22a3179",
   "metadata": {},
   "outputs": [],
   "source": []
  },
  {
   "cell_type": "code",
   "execution_count": null,
   "id": "cf964911",
   "metadata": {},
   "outputs": [],
   "source": []
  },
  {
   "cell_type": "code",
   "execution_count": null,
   "id": "5f9044b4",
   "metadata": {},
   "outputs": [],
   "source": []
  }
 ],
 "metadata": {
  "kernelspec": {
   "display_name": "Python 3 (ipykernel)",
   "language": "python",
   "name": "python3"
  },
  "language_info": {
   "codemirror_mode": {
    "name": "ipython",
    "version": 3
   },
   "file_extension": ".py",
   "mimetype": "text/x-python",
   "name": "python",
   "nbconvert_exporter": "python",
   "pygments_lexer": "ipython3",
   "version": "3.10.9"
  }
 },
 "nbformat": 4,
 "nbformat_minor": 5
}
